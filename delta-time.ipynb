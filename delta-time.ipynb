{
 "cells": [
  {
   "cell_type": "code",
   "execution_count": 22,
   "metadata": {},
   "outputs": [],
   "source": [
    "import numpy as np\n",
    "np.seterr(divide='ignore', invalid='ignore')\n",
    "from scipy.stats import norm\n",
    "import pdb\n",
    "import matplotlib.pyplot as plt \n",
    "import scipy.stats\n",
    "from tqdm import tqdm\n",
    "\n",
    "np.random.seed(123)\n",
    "# creating black scholes price and greeks\n",
    "class BS():\n",
    "    \n",
    "    def CallPrice(S, T, K, sigma, r):\n",
    "        \n",
    "        dp = (np.log(S/K) + (r+0.5*sigma**2)*T)/(np.sqrt(T)*sigma)\n",
    "        dm = (np.log(S/K) + (r-0.5*sigma**2)*T)/(np.sqrt(T)*sigma)\n",
    "        \n",
    "        return S*norm.cdf(dp) - K*np.exp(-r*T)*norm.cdf(dm)\n",
    "    \n",
    "    def PutPrice(S, T, K, sigma, r):\n",
    "        \n",
    "        dp = (np.log(S/K) + (r+0.5*sigma**2)*T)/(np.sqrt(T)*sigma)\n",
    "        dm = (np.log(S/K) + (r-0.5*sigma**2)*T)/(np.sqrt(T)*sigma)\n",
    "        \n",
    "        return K*np.exp(-r*T)*norm.cdf(-dm) - S*norm.cdf(-dp)\n",
    "    \n",
    "    \n",
    "    def CallDelta(S, T, K, sigma, r):\n",
    "        \n",
    "        dp = (np.log(S/K) + (r+0.5*sigma**2)*T)/(np.sqrt(T)*sigma)\n",
    "        return norm.cdf(dp)\n",
    "    \n",
    "    def PutDelta(S, T, K, sigma, r):\n",
    "        \n",
    "        return BS.CallDelta(S, T, K, sigma, r)-1\n",
    "    \n",
    "    def CallGamma(S, T, K, sigma, r):\n",
    "        \n",
    "        dp = (np.log(S/K) + (r+0.5*sigma**2)*T)/np.sqrt(T)/sigma\n",
    "        \n",
    "        return norm.pdf(dp)/(S*sigma*np.sqrt(T))\n",
    "    \n",
    "    def PutGamma(S, T, K, sigma, r):\n",
    "        \n",
    "        return BS.CallGamma(S, T, K, sigma, r)\n",
    "    \n",
    "    def CallVega(S, T, K, sigma, r):\n",
    "        \n",
    "        dp = (np.log(S/K) + (r+0.5*sigma**2)*T)/np.sqrt(T)/sigma\n",
    "        \n",
    "        return norm.pdf(dp)*S*np.sqrt(T)\n",
    "    \n",
    "    def CallTheta(S, T, K, sigma, r):\n",
    "        \n",
    "        dp = (np.log(S/K) + (r+0.5*sigma**2)*T)/np.sqrt(T)/sigma\n",
    "        dm = (np.log(S/K) + (r-0.5*sigma**2)*T)/np.sqrt(T)/sigma\n",
    "        \n",
    "        return -S*norm.pdf(dp)*sigma/(2*np.sqrt(T)) - r*K*np.exp(-r*T)*norm.cdf(dm)\n",
    "    \n",
    "    def PutTheta(S, T, K, sigma, r):\n",
    "        \n",
    "        dp = (np.log(S/K) + (r+0.5*sigma**2)*T)/np.sqrt(T)/sigma\n",
    "        dm = (np.log(S/K) + (r-0.5*sigma**2)*T)/np.sqrt(T)/sigma\n",
    "        \n",
    "        return -S*norm.pdf(dp)*sigma/(2*np.sqrt(T)) + r*K*np.exp(-r*T)*norm.cdf(-dm)\n",
    "    \n",
    "    def CallRho(S, T, K, sigma, r):\n",
    "        \n",
    "        dm = (np.log(S/K) + (r-0.5*sigma**2)*T)/np.sqrt(T)/sigma\n",
    "        \n",
    "        return K*T*np.exp(-r*T)*norm.pdf(dm)\n",
    "    \n",
    "    def PutRho(S, T, K, sigma, r):\n",
    "        \n",
    "        dm = (np.log(S/K) + (r-0.5*sigma**2)*T)/np.sqrt(T)/sigma\n",
    "        \n",
    "        return -K*T*np.exp(-r*T)*norm.pdf(-dm)    "
   ]
  },
  {
   "cell_type": "code",
   "execution_count": 23,
   "metadata": {},
   "outputs": [],
   "source": [
    "# get s\n",
    "def get_dS(dt, mu, sigma, S_last):\n",
    "    std = np.sqrt(dt)\n",
    "    z = np.random.normal(0, std,1)[0]\n",
    "    return mu * S_last * dt + sigma * S_last * z\n",
    "\n",
    "# get m\n",
    "def get_M(M_last, r, dt, delta, delta_last, S, phi_equity):\n",
    "    return M_last * np.exp(r * dt) - (delta - delta_last) * S - phi_equity * np.abs(delta - delta_last)"
   ]
  },
  {
   "cell_type": "code",
   "execution_count": 24,
   "metadata": {},
   "outputs": [],
   "source": [
    "# Set up\n",
    "S0 = 100\n",
    "K = 100\n",
    "sigma = 0.2\n",
    "mu = 0.1\n",
    "r = 0.02\n",
    "T = 0.25\n",
    "\n",
    "phi_equity = 0.005\n",
    "phi_option = 0.01\n",
    "\n",
    "P0 = BS.PutPrice(S0, T, K, sigma, r)\n",
    "delta0 = BS.PutDelta(S0,T,K,sigma,r)\n",
    "M0 = P0 - delta0 * S0 - phi_equity * np.abs(delta0)\n",
    "\n",
    "dt = 1/365 # day is the smallest interval\n",
    "Ndt = int(T*365)\n",
    "t_list = np.linspace(0,T, int(round(Ndt,0))+1)\n",
    "\n",
    "list_M_final = []"
   ]
  },
  {
   "cell_type": "code",
   "execution_count": 25,
   "metadata": {},
   "outputs": [],
   "source": [
    "check_s = lambda s: s < K"
   ]
  },
  {
   "cell_type": "code",
   "execution_count": 26,
   "metadata": {},
   "outputs": [
    {
     "name": "stderr",
     "output_type": "stream",
     "text": [
      "100%|██████████| 10000/10000 [00:43<00:00, 230.66it/s]\n"
     ]
    }
   ],
   "source": [
    "for sim in tqdm(range(10000)):\n",
    "    s_init = S0\n",
    "    delta_init = delta0 #negative position\n",
    "    M_init = M0\n",
    "    \n",
    "    for day in t_list:\n",
    "        stock_price = s_init + get_dS(dt, mu, sigma, s_init)\n",
    "        delta = BS.PutDelta(stock_price, T-day, K, sigma, r)\n",
    "        money_account = get_M(M_init, r, dt, delta, delta_init, stock_price, phi_equity)\n",
    "\n",
    "        s_init = stock_price\n",
    "        delta_init = delta\n",
    "        M_init = money_account\n",
    "\n",
    "    stock_price_final = s_init + get_dS(dt, mu, sigma, s_init)\n",
    "    # physical settling\n",
    "    # money_account -= (stock_price < K) * K\n",
    "    # financial settling\n",
    "    money_account = M_init * np.exp(r*dt) + \\\n",
    "            delta * stock_price_final - phi_equity * np.abs(delta) \\\n",
    "            + (stock_price_final < K) * (- K + stock_price_final)#no need to pay transaction cost here, because the option is OTC\n",
    "\n",
    "    list_M_final.append(money_account)"
   ]
  },
  {
   "cell_type": "code",
   "execution_count": 27,
   "metadata": {},
   "outputs": [
    {
     "data": {
      "image/png": "[encoded data removed]",
      "text/plain": [
       "<Figure size 640x480 with 1 Axes>"
      ]
     },
     "metadata": {},
     "output_type": "display_data"
    }
   ],
   "source": [
    "plt.hist(list_M_final,50)\n",
    "plt.xlabel('Profit or Loss at time T')\n",
    "plt.ylabel('count')\n",
    "plt.title('P/L Distribution, Time-based Delta Hedge')\n",
    "plt.savefig('Profit Distribition, Time-based Delta Hedge.png')"
   ]
  },
  {
   "cell_type": "code",
   "execution_count": 28,
   "metadata": {},
   "outputs": [],
   "source": [
    "# Calculate CVaR\n",
    "list_M_final = np.array(list_M_final)\n",
    "confidence = 10\n",
    "mean_hedge = np.average(list_M_final)\n",
    "std_hedge = np.std(list_M_final)\n",
    "VaR = np.percentile(list_M_final, confidence)\n",
    "CVaR = np.mean(list_M_final[list_M_final<=VaR])"
   ]
  },
  {
   "cell_type": "code",
   "execution_count": 29,
   "metadata": {},
   "outputs": [
    {
     "name": "stdout",
     "output_type": "stream",
     "text": [
      "4.490016310677011\n"
     ]
    }
   ],
   "source": [
    "m = - CVaR - 0.02\n",
    "m_discounted = m * np.exp(-r * T)\n",
    "price_CVaR_Adjusted = P0 + m_discounted\n",
    "print(price_CVaR_Adjusted)"
   ]
  }
 ],
 "metadata": {
  "kernelspec": {
   "display_name": "Python 3.10.6 64-bit",
   "language": "python",
   "name": "python3"
  },
  "language_info": {
   "codemirror_mode": {
    "name": "ipython",
    "version": 3
   },
   "file_extension": ".py",
   "mimetype": "text/x-python",
   "name": "python",
   "nbconvert_exporter": "python",
   "pygments_lexer": "ipython3",
   "version": "3.10.6"
  },
  "orig_nbformat": 4,
  "vscode": {
   "interpreter": {
    "hash": "aee8b7b246df8f9039afb4144a1f6fd8d2ca17a180786b69acc140d282b71a49"
   }
  }
 },
 "nbformat": 4,
 "nbformat_minor": 2
}
