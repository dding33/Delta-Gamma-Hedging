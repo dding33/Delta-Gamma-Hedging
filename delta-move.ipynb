{
 "cells": [
  {
   "cell_type": "code",
   "execution_count": 177,
   "metadata": {},
   "outputs": [],
   "source": [
    "import numpy as np\n",
    "np.seterr(divide='ignore', invalid='ignore')\n",
    "from scipy.stats import norm\n",
    "import pdb\n",
    "import matplotlib.pyplot as plt \n",
    "import scipy.stats\n",
    "from tqdm import tqdm\n",
    "\n",
    "np.random.seed(123)\n",
    "# creating black scholes price and greeks\n",
    "class BS():\n",
    "    \n",
    "    def CallPrice(S, T, K, sigma, r):\n",
    "        \n",
    "        dp = (np.log(S/K) + (r+0.5*sigma**2)*T)/(np.sqrt(T)*sigma)\n",
    "        dm = (np.log(S/K) + (r-0.5*sigma**2)*T)/(np.sqrt(T)*sigma)\n",
    "        \n",
    "        return S*norm.cdf(dp) - K*np.exp(-r*T)*norm.cdf(dm)\n",
    "    \n",
    "    def PutPrice(S, T, K, sigma, r):\n",
    "        \n",
    "        dp = (np.log(S/K) + (r+0.5*sigma**2)*T)/(np.sqrt(T)*sigma)\n",
    "        dm = (np.log(S/K) + (r-0.5*sigma**2)*T)/(np.sqrt(T)*sigma)\n",
    "        \n",
    "        return K*np.exp(-r*T)*norm.cdf(-dm) - S*norm.cdf(-dp)\n",
    "    \n",
    "    \n",
    "    def CallDelta(S, T, K, sigma, r):\n",
    "        \n",
    "        dp = (np.log(S/K) + (r+0.5*sigma**2)*T)/(np.sqrt(T)*sigma)\n",
    "        return norm.cdf(dp)\n",
    "    \n",
    "    def PutDelta(S, T, K, sigma, r):\n",
    "        \n",
    "        return BS.CallDelta(S, T, K, sigma, r)-1\n",
    "    \n",
    "    def CallGamma(S, T, K, sigma, r):\n",
    "        \n",
    "        dp = (np.log(S/K) + (r+0.5*sigma**2)*T)/np.sqrt(T)/sigma\n",
    "        \n",
    "        return norm.pdf(dp)/(S*sigma*np.sqrt(T))\n",
    "    \n",
    "    def PutGamma(S, T, K, sigma, r):\n",
    "        \n",
    "        return BS.CallGamma(S, T, K, sigma, r)\n",
    "    \n",
    "    def CallVega(S, T, K, sigma, r):\n",
    "        \n",
    "        dp = (np.log(S/K) + (r+0.5*sigma**2)*T)/np.sqrt(T)/sigma\n",
    "        \n",
    "        return norm.pdf(dp)*S*np.sqrt(T)\n",
    "    \n",
    "    def CallTheta(S, T, K, sigma, r):\n",
    "        \n",
    "        dp = (np.log(S/K) + (r+0.5*sigma**2)*T)/np.sqrt(T)/sigma\n",
    "        dm = (np.log(S/K) + (r-0.5*sigma**2)*T)/np.sqrt(T)/sigma\n",
    "        \n",
    "        return -S*norm.pdf(dp)*sigma/(2*np.sqrt(T)) - r*K*np.exp(-r*T)*norm.cdf(dm)\n",
    "    \n",
    "    def PutTheta(S, T, K, sigma, r):\n",
    "        \n",
    "        dp = (np.log(S/K) + (r+0.5*sigma**2)*T)/np.sqrt(T)/sigma\n",
    "        dm = (np.log(S/K) + (r-0.5*sigma**2)*T)/np.sqrt(T)/sigma\n",
    "        \n",
    "        return -S*norm.pdf(dp)*sigma/(2*np.sqrt(T)) + r*K*np.exp(-r*T)*norm.cdf(-dm)\n",
    "    \n",
    "    def CallRho(S, T, K, sigma, r):\n",
    "        \n",
    "        dm = (np.log(S/K) + (r-0.5*sigma**2)*T)/np.sqrt(T)/sigma\n",
    "        \n",
    "        return K*T*np.exp(-r*T)*norm.pdf(dm)\n",
    "    \n",
    "    def PutRho(S, T, K, sigma, r):\n",
    "        \n",
    "        dm = (np.log(S/K) + (r-0.5*sigma**2)*T)/np.sqrt(T)/sigma\n",
    "        \n",
    "        return -K*T*np.exp(-r*T)*norm.pdf(-dm)    "
   ]
  },
  {
   "cell_type": "code",
   "execution_count": 178,
   "metadata": {},
   "outputs": [],
   "source": [
    "# get s\n",
    "def get_dS(dt, mu, sigma, S_last):\n",
    "    std = np.sqrt(dt)\n",
    "    z = np.random.normal(0, std,1)[0]\n",
    "    return mu * S_last * dt + sigma * S_last * z\n",
    "\n",
    "# get m\n",
    "def get_M(M_last, r, dt, delta, delta_last, S, phi_equity):\n",
    "    return M_last * np.exp(r * dt) - (delta - delta_last) * S - phi_equity * np.abs(delta - delta_last)"
   ]
  },
  {
   "cell_type": "code",
   "execution_count": 179,
   "metadata": {},
   "outputs": [
    {
     "name": "stdout",
     "output_type": "stream",
     "text": [
      "91\n"
     ]
    }
   ],
   "source": [
    "# Set up\n",
    "S0 = 100\n",
    "K = 100\n",
    "sigma = 0.2\n",
    "mu = 0.1\n",
    "r = 0.02\n",
    "T = 1/4 * 1 # 1/4 of a year\n",
    "\n",
    "phi_equity = 0.005\n",
    "phi_option = 0.01\n",
    "\n",
    "P0 = BS.PutPrice(S0, T, K, sigma, r)\n",
    "delta0 = BS.PutDelta(S0,T,K,sigma,r)\n",
    "M0 = P0 - delta0 * S0 - phi_equity * np.abs(delta0) - phi_option\n",
    "band = 0.1\n",
    "band_width = band/2\n",
    "\n",
    "dt = 1/365 # day is the smallest interval\n",
    "Ndt = int(T*365) # number of days in 1/4 year\n",
    "t_list = np.linspace(0,T, int(round(Ndt,0))+1)[1:]\n",
    "\n",
    "print(len(t_list))\n",
    "\n",
    "list_M_final = []"
   ]
  },
  {
   "cell_type": "code",
   "execution_count": 180,
   "metadata": {},
   "outputs": [],
   "source": [
    "check_s = lambda s: s < K"
   ]
  },
  {
   "cell_type": "code",
   "execution_count": 181,
   "metadata": {},
   "outputs": [
    {
     "name": "stderr",
     "output_type": "stream",
     "text": [
      "100%|██████████| 1000/1000 [00:04<00:00, 231.02it/s]\n"
     ]
    }
   ],
   "source": [
    "for sim in tqdm(range(1000)):\n",
    "    s_init = S0\n",
    "    delta_init = delta0 # negative position\n",
    "    M_init = M0\n",
    "    delta_center = delta_init\n",
    "    ub = -0.01\n",
    "    lb = -0.99\n",
    "    upper_band = delta0 + 0.05\n",
    "    lower_band = delta0 - 0.05\n",
    "    \n",
    "    for day in t_list:\n",
    "        stock_price = s_init + get_dS(dt, mu, sigma, s_init)\n",
    "        delta = BS.PutDelta(stock_price, T-day, K, sigma, r)\n",
    "        if stock_price <= 0: # check if stock price is below 0\n",
    "            stock_price = s_init\n",
    "        \n",
    "        if delta_init >= ub:\n",
    "            upper_band = 0\n",
    "            lower_band = -0.01\n",
    "        elif delta_init <= lb:\n",
    "            upper_band = -0.99\n",
    "            lower_band = -1\n",
    "\n",
    "        if delta > lower_band and delta < upper_band:\n",
    "            money_account = M_init * np.exp(r * dt)\n",
    "        else:\n",
    "            money_account = get_M(M_init, r, dt, delta, delta_center, stock_price, phi_equity)\n",
    "            delta_center = delta\n",
    "        \n",
    "        delta_init = delta\n",
    "        s_init = stock_price\n",
    "        M_init = money_account\n",
    "    \n",
    "\n",
    "    # physical settling\n",
    "    money_account -= (stock_price < K) * K\n",
    "    # financial settling\n",
    "    # Final_M = M_init * np.exp(r*dt) + delta * Final_S - phi_equity * np.abs(delta) \n",
    "\n",
    "    list_M_final.append(money_account)"
   ]
  },
  {
   "cell_type": "code",
   "execution_count": 182,
   "metadata": {},
   "outputs": [
    {
     "data": {
      "image/png": "[encoded data removed]",
      "text/plain": [
       "<Figure size 640x480 with 1 Axes>"
      ]
     },
     "metadata": {},
     "output_type": "display_data"
    }
   ],
   "source": [
    "plt.hist(list_M_final,50)\n",
    "plt.xlabel('Profit or Loss at time T')\n",
    "plt.ylabel('count')\n",
    "plt.title('P/L Distribution, Move-based Delta Hedge')\n",
    "plt.savefig('Profit Distribition, Move-based Delta Hedge.png')"
   ]
  },
  {
   "cell_type": "code",
   "execution_count": 183,
   "metadata": {},
   "outputs": [],
   "source": [
    "# Calculate CVaR\n",
    "M_final = np.array(list_M_final)\n",
    "confidence = 10\n",
    "mean_hedge = np.average(M_final)\n",
    "std_hedge = np.std(M_final)\n",
    "VaR = np.percentile(M_final, confidence)\n",
    "CVaR = np.mean(M_final[M_final<=VaR])"
   ]
  },
  {
   "cell_type": "code",
   "execution_count": 184,
   "metadata": {},
   "outputs": [
    {
     "name": "stdout",
     "output_type": "stream",
     "text": [
      "4.596563431815285\n"
     ]
    }
   ],
   "source": [
    "m = - CVaR - 0.02\n",
    "m_discounted = m * np.exp(-r * T)\n",
    "price_CVaR_Adjusted = P0 + m_discounted\n",
    "print(price_CVaR_Adjusted)"
   ]
  }
 ],
 "metadata": {
  "kernelspec": {
   "display_name": "Python 3.10.6 64-bit",
   "language": "python",
   "name": "python3"
  },
  "language_info": {
   "codemirror_mode": {
    "name": "ipython",
    "version": 3
   },
   "file_extension": ".py",
   "mimetype": "text/x-python",
   "name": "python",
   "nbconvert_exporter": "python",
   "pygments_lexer": "ipython3",
   "version": "3.10.6"
  },
  "orig_nbformat": 4,
  "vscode": {
   "interpreter": {
    "hash": "aee8b7b246df8f9039afb4144a1f6fd8d2ca17a180786b69acc140d282b71a49"
   }
  }
 },
 "nbformat": 4,
 "nbformat_minor": 2
}
